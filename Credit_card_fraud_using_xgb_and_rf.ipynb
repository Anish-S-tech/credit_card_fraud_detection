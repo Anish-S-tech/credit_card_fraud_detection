{
  "nbformat": 4,
  "nbformat_minor": 0,
  "metadata": {
    "colab": {
      "provenance": []
    },
    "kernelspec": {
      "name": "python3",
      "display_name": "Python 3"
    },
    "language_info": {
      "name": "python"
    }
  },
  "cells": [
    {
      "cell_type": "code",
      "execution_count": 1,
      "metadata": {
        "id": "nmJKIja3ZOoA"
      },
      "outputs": [],
      "source": [
        "import pandas as pd\n",
        "import numpy as np\n",
        "from sklearn.model_selection import train_test_split, StratifiedKFold\n",
        "from sklearn.preprocessing import StandardScaler\n",
        "from sklearn.metrics import classification_report, roc_auc_score, precision_recall_curve, auc\n",
        "from sklearn.ensemble import RandomForestClassifier\n",
        "from imblearn.over_sampling import SMOTE\n",
        "import xgboost as xgb\n",
        "import matplotlib.pyplot as plt"
      ]
    },
    {
      "cell_type": "code",
      "source": [
        "data = pd.read_csv(\"creditcard.csv\")"
      ],
      "metadata": {
        "id": "kx_jPABHZQkj"
      },
      "execution_count": 2,
      "outputs": []
    },
    {
      "cell_type": "code",
      "source": [
        "data = data.dropna(subset=[\"Class\"])\n",
        "X = data.drop(\"Class\", axis=1)\n",
        "y = data[\"Class\"]"
      ],
      "metadata": {
        "id": "E9GyYvsNZa-E"
      },
      "execution_count": 3,
      "outputs": []
    },
    {
      "cell_type": "code",
      "source": [
        "X = X.fillna(0)"
      ],
      "metadata": {
        "id": "NKdRx3nkZhsw"
      },
      "execution_count": 4,
      "outputs": []
    },
    {
      "cell_type": "code",
      "source": [
        "scaler = StandardScaler()\n",
        "X[[\"Amount\", \"Time\"]] = scaler.fit_transform(X[[\"Amount\", \"Time\"]])\n"
      ],
      "metadata": {
        "id": "DIcsCfkvZjut"
      },
      "execution_count": 5,
      "outputs": []
    },
    {
      "cell_type": "code",
      "source": [
        "X_train, X_test, y_train, y_test = train_test_split(\n",
        "    X, y, test_size=0.2, stratify=y, random_state=42\n",
        ")\n"
      ],
      "metadata": {
        "id": "IwLdFrSxZl9H"
      },
      "execution_count": 6,
      "outputs": []
    },
    {
      "cell_type": "code",
      "source": [
        "smote = SMOTE(random_state=42)\n",
        "X_train_res, y_train_res = smote.fit_resample(X_train, y_train)\n"
      ],
      "metadata": {
        "id": "MDtTT4tgZ-Sc"
      },
      "execution_count": 7,
      "outputs": []
    },
    {
      "cell_type": "code",
      "source": [
        "rf = RandomForestClassifier(\n",
        "    n_estimators=200,\n",
        "    class_weight=\"balanced\",  # penalize fraud misclassification\n",
        "    random_state=42\n",
        ")\n",
        "rf.fit(X_train_res, y_train_res)\n",
        "\n",
        "rf_pred = rf.predict(X_test)\n",
        "rf_proba = rf.predict_proba(X_test)[:, 1]\n",
        "\n",
        "print(\"\\n=== RandomForest Results ===\")\n",
        "print(classification_report(y_test, rf_pred, digits=4))\n",
        "print(\"ROC-AUC:\", roc_auc_score(y_test, rf_proba))\n"
      ],
      "metadata": {
        "colab": {
          "base_uri": "https://localhost:8080/"
        },
        "id": "teM2FiW1aARA",
        "outputId": "e03a1de9-4617-4add-fffb-ee29e02caf2e"
      },
      "execution_count": 8,
      "outputs": [
        {
          "output_type": "stream",
          "name": "stdout",
          "text": [
            "\n",
            "=== RandomForest Results ===\n",
            "              precision    recall  f1-score   support\n",
            "\n",
            "         0.0     0.9998    0.9995    0.9997      4359\n",
            "         1.0     0.8889    0.9412    0.9143        17\n",
            "\n",
            "    accuracy                         0.9993      4376\n",
            "   macro avg     0.9443    0.9704    0.9570      4376\n",
            "weighted avg     0.9993    0.9993    0.9993      4376\n",
            "\n",
            "ROC-AUC: 0.9999055368878453\n"
          ]
        }
      ]
    },
    {
      "cell_type": "code",
      "source": [
        "scale_pos_weight = (len(y_train) - sum(y_train)) / sum(y_train)  # imbalance ratio\n",
        "xgb_model = xgb.XGBClassifier(\n",
        "    n_estimators=300,\n",
        "    learning_rate=0.05,\n",
        "    max_depth=6,\n",
        "    subsample=0.8,\n",
        "    colsample_bytree=0.8,\n",
        "    scale_pos_weight=scale_pos_weight,\n",
        "    eval_metric=\"auc\",\n",
        "    random_state=42,\n",
        "    use_label_encoder=False\n",
        ")\n",
        "\n",
        "xgb_model.fit(X_train, y_train)\n",
        "xgb_pred = xgb_model.predict(X_test)\n",
        "xgb_proba = xgb_model.predict_proba(X_test)[:, 1]\n",
        "\n",
        "print(\"\\n=== XGBoost Results ===\")\n",
        "print(classification_report(y_test, xgb_pred, digits=4))\n",
        "print(\"ROC-AUC:\", roc_auc_score(y_test, xgb_proba))\n"
      ],
      "metadata": {
        "colab": {
          "base_uri": "https://localhost:8080/"
        },
        "id": "m0NePfAOaHpk",
        "outputId": "f9e4f83f-1e5c-46a5-f1c6-445886e55d8a"
      },
      "execution_count": 10,
      "outputs": [
        {
          "output_type": "stream",
          "name": "stderr",
          "text": [
            "/usr/local/lib/python3.12/dist-packages/xgboost/training.py:183: UserWarning: [13:29:16] WARNING: /workspace/src/learner.cc:738: \n",
            "Parameters: { \"use_label_encoder\" } are not used.\n",
            "\n",
            "  bst.update(dtrain, iteration=i, fobj=obj)\n"
          ]
        },
        {
          "output_type": "stream",
          "name": "stdout",
          "text": [
            "\n",
            "=== XGBoost Results ===\n",
            "              precision    recall  f1-score   support\n",
            "\n",
            "         0.0     0.9998    0.9993    0.9995      4359\n",
            "         1.0     0.8421    0.9412    0.8889        17\n",
            "\n",
            "    accuracy                         0.9991      4376\n",
            "   macro avg     0.9209    0.9702    0.9442      4376\n",
            "weighted avg     0.9992    0.9991    0.9991      4376\n",
            "\n",
            "ROC-AUC: 0.9999325263484609\n"
          ]
        }
      ]
    },
    {
      "cell_type": "code",
      "source": [
        "precisions, recalls, thresholds = precision_recall_curve(y_test, xgb_proba)\n",
        "pr_auc = auc(recalls, precisions)\n",
        "\n",
        "plt.figure(figsize=(6, 4))\n",
        "plt.plot(recalls, precisions, label=f\"PR Curve (AUC={pr_auc:.4f})\")\n",
        "plt.xlabel(\"Recall\")\n",
        "plt.ylabel(\"Precision\")\n",
        "plt.title(\"Precision-Recall Curve (XGBoost)\")\n",
        "plt.legend()\n",
        "plt.show()\n"
      ],
      "metadata": {
        "colab": {
          "base_uri": "https://localhost:8080/",
          "height": 410
        },
        "id": "yzwW_npFahvJ",
        "outputId": "efc2de12-5218-4d53-af73-4d2244031dc5"
      },
      "execution_count": 11,
      "outputs": [
        {
          "output_type": "display_data",
          "data": {
            "text/plain": [
              "<Figure size 600x400 with 1 Axes>"
            ],
            "image/png": "[encoded data removed]"
          },
          "metadata": {}
        }
      ]
    },
    {
      "cell_type": "code",
      "source": [
        "desired_recall = 0.95\n",
        "idx = np.argmax(recalls >= desired_recall)\n",
        "best_threshold = thresholds[idx] if idx < len(thresholds) else 0.5\n",
        "print(f\"\\nBest threshold for Recall >= {desired_recall}: {best_threshold:.3f}\")\n"
      ],
      "metadata": {
        "colab": {
          "base_uri": "https://localhost:8080/"
        },
        "id": "Kxz7AYrEa23y",
        "outputId": "5ba0d2db-f683-44ce-e97f-e58fac0b2741"
      },
      "execution_count": 12,
      "outputs": [
        {
          "output_type": "stream",
          "name": "stdout",
          "text": [
            "\n",
            "Best threshold for Recall >= 0.95: 0.000\n"
          ]
        }
      ]
    },
    {
      "cell_type": "code",
      "source": [
        "xgb_adjusted_pred = (xgb_proba >= best_threshold).astype(int)\n",
        "print(\"\\n=== XGBoost (Adjusted Threshold) ===\")\n",
        "print(classification_report(y_test, xgb_adjusted_pred, digits=4))"
      ],
      "metadata": {
        "colab": {
          "base_uri": "https://localhost:8080/"
        },
        "id": "KQ76Tr6Ea772",
        "outputId": "4a4dc0de-9cca-4065-ddd6-2f71c7b0f389"
      },
      "execution_count": 13,
      "outputs": [
        {
          "output_type": "stream",
          "name": "stdout",
          "text": [
            "\n",
            "=== XGBoost (Adjusted Threshold) ===\n",
            "              precision    recall  f1-score   support\n",
            "\n",
            "         0.0     0.0000    0.0000    0.0000      4359\n",
            "         1.0     0.0039    1.0000    0.0077        17\n",
            "\n",
            "    accuracy                         0.0039      4376\n",
            "   macro avg     0.0019    0.5000    0.0039      4376\n",
            "weighted avg     0.0000    0.0039    0.0000      4376\n",
            "\n"
          ]
        },
        {
          "output_type": "stream",
          "name": "stderr",
          "text": [
            "/usr/local/lib/python3.12/dist-packages/sklearn/metrics/_classification.py:1565: UndefinedMetricWarning: Precision is ill-defined and being set to 0.0 in labels with no predicted samples. Use `zero_division` parameter to control this behavior.\n",
            "  _warn_prf(average, modifier, f\"{metric.capitalize()} is\", len(result))\n",
            "/usr/local/lib/python3.12/dist-packages/sklearn/metrics/_classification.py:1565: UndefinedMetricWarning: Precision is ill-defined and being set to 0.0 in labels with no predicted samples. Use `zero_division` parameter to control this behavior.\n",
            "  _warn_prf(average, modifier, f\"{metric.capitalize()} is\", len(result))\n",
            "/usr/local/lib/python3.12/dist-packages/sklearn/metrics/_classification.py:1565: UndefinedMetricWarning: Precision is ill-defined and being set to 0.0 in labels with no predicted samples. Use `zero_division` parameter to control this behavior.\n",
            "  _warn_prf(average, modifier, f\"{metric.capitalize()} is\", len(result))\n"
          ]
        }
      ]
    },
    {
      "cell_type": "code",
      "source": [
        "from sklearn.metrics import f1_score\n",
        "\n",
        "best_f1, best_thresh = 0, 0\n",
        "for t in thresholds:\n",
        "    preds = (xgb_proba >= t).astype(int)\n",
        "    f1 = f1_score(y_test, preds)\n",
        "    if f1 > best_f1:\n",
        "        best_f1, best_thresh = f1, t\n",
        "\n",
        "print(f\"Best threshold (by F1): {best_thresh:.4f}, F1: {best_f1:.4f}\")\n"
      ],
      "metadata": {
        "colab": {
          "base_uri": "https://localhost:8080/"
        },
        "id": "RZr6E7mUbFAy",
        "outputId": "be673c3e-5b62-4432-bed9-8e6d053227ec"
      },
      "execution_count": 14,
      "outputs": [
        {
          "output_type": "stream",
          "name": "stdout",
          "text": [
            "Best threshold (by F1): 0.7464, F1: 0.9412\n"
          ]
        }
      ]
    },
    {
      "cell_type": "code",
      "source": [
        "from sklearn.metrics import classification_report\n",
        "\n",
        "xgb_adjusted_pred = (xgb_proba >= 0.7464).astype(int)\n",
        "print(classification_report(y_test, xgb_adjusted_pred, digits=4))\n"
      ],
      "metadata": {
        "colab": {
          "base_uri": "https://localhost:8080/"
        },
        "id": "KC7kD9KtbN8R",
        "outputId": "5ed204cb-6661-46df-ca52-812d7c487fc5"
      },
      "execution_count": 15,
      "outputs": [
        {
          "output_type": "stream",
          "name": "stdout",
          "text": [
            "              precision    recall  f1-score   support\n",
            "\n",
            "         0.0     0.9998    0.9998    0.9998      4359\n",
            "         1.0     0.9412    0.9412    0.9412        17\n",
            "\n",
            "    accuracy                         0.9995      4376\n",
            "   macro avg     0.9705    0.9705    0.9705      4376\n",
            "weighted avg     0.9995    0.9995    0.9995      4376\n",
            "\n"
          ]
        }
      ]
    },
    {
      "cell_type": "code",
      "source": [
        "from sklearn.metrics import confusion_matrix, ConfusionMatrixDisplay\n",
        "import matplotlib.pyplot as plt\n",
        "\n",
        "cm = confusion_matrix(y_test, xgb_adjusted_pred)\n",
        "disp = ConfusionMatrixDisplay(confusion_matrix=cm)\n",
        "disp.plot(cmap=\"Blues\")\n",
        "plt.show()\n"
      ],
      "metadata": {
        "colab": {
          "base_uri": "https://localhost:8080/",
          "height": 449
        },
        "id": "hFabBwMXbdkk",
        "outputId": "410ec545-fd6d-45b1-e062-fb2a464f85e8"
      },
      "execution_count": 16,
      "outputs": [
        {
          "output_type": "display_data",
          "data": {
            "text/plain": [
              "<Figure size 640x480 with 2 Axes>"
            ],
            "image/png": "[encoded data removed]"
          },
          "metadata": {}
        }
      ]
    },
    {
      "cell_type": "code",
      "source": [
        "import joblib\n",
        "joblib.dump((xgb_model, 0.7464), \"fraud_model.pkl\")\n"
      ],
      "metadata": {
        "colab": {
          "base_uri": "https://localhost:8080/"
        },
        "id": "C1HE-u0PbgUk",
        "outputId": "a52b8872-7073-4053-cd8f-9488ce1680e3"
      },
      "execution_count": 17,
      "outputs": [
        {
          "output_type": "execute_result",
          "data": {
            "text/plain": [
              "['fraud_model.pkl']"
            ]
          },
          "metadata": {},
          "execution_count": 17
        }
      ]
    },
    {
      "cell_type": "code",
      "source": [],
      "metadata": {
        "id": "BnI53oYjbvhC"
      },
      "execution_count": null,
      "outputs": []
    }
  ]
}
