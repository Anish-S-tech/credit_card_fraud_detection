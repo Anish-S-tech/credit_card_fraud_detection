import streamlit as st
import pandas as pd
import numpy as np
import joblib
from sklearn.model_selection import train_test_split
from sklearn.preprocessing import StandardScaler
from sklearn.metrics import precision_recall_curve, f1_score, classification_report, roc_auc_score
from imblearn.over_sampling import SMOTE
import xgboost as xgb
import os

MODEL_FILE = "fraud_model.pkl"
SCALER_FILE = "scaler.pkl"

# Function to train and save model
def train_and_save_model():
    st.info("Training model. Please wait...")

    data = pd.read_csv("creditcard.csv")
    data = data.dropna(subset=["Class"])

    X = data.drop("Class", axis=1)
    y = data["Class"]
    X = X.fillna(0)

    scaler = StandardScaler()
    X[["Amount", "Time"]] = scaler.fit_transform(X[["Amount", "Time"]])

    X_train, X_test, y_train, y_test = train_test_split(
        X, y, test_size=0.2, stratify=y, random_state=42
    )

    smote = SMOTE(random_state=42)
    X_train_res, y_train_res = smote.fit_resample(X_train, y_train)

    scale_pos_weight = (len(y_train) - sum(y_train)) / sum(y_train)

    xgb_model = xgb.XGBClassifier(
        n_estimators=300,
        learning_rate=0.05,
        max_depth=6,
        subsample=0.8,
        colsample_bytree=0.8,
        scale_pos_weight=scale_pos_weight,
        eval_metric="auc",
        random_state=42,
        use_label_encoder=False
    )

    xgb_model.fit(X_train_res, y_train_res)

    xgb_proba = xgb_model.predict_proba(X_test)[:, 1]

    precisions, recalls, thresholds = precision_recall_curve(y_test, xgb_proba)
    best_f1, best_threshold = 0, 0
    for t in thresholds:
        preds = (xgb_proba >= t).astype(int)
        f1 = f1_score(y_test, preds)
        if f1 > best_f1:
            best_f1, best_threshold = f1, t

    final_preds = (xgb_proba >= best_threshold).astype(int)
    st.write("\nModel trained successfully!")
    st.text(classification_report(y_test, final_preds, digits=4))
    st.text(f"ROC-AUC: {roc_auc_score(y_test, xgb_proba):.4f}")
    st.text(f"Best Threshold (F1): {best_threshold:.4f}")

    joblib.dump((xgb_model, best_threshold), MODEL_FILE)
    joblib.dump(scaler, SCALER_FILE)
    st.success("Model and scaler saved!")

# Streamlit UI
st.title("Credit Card Fraud Detection Web App")

if not os.path.exists(MODEL_FILE) or not os.path.exists(SCALER_FILE):
    st.warning("No saved model found. Click below to train the model.")
    if st.button("Train Model"):
        train_and_save_model()
else:
    st.success("Pre-trained model found and loaded.")
    xgb_model, best_threshold = joblib.load(MODEL_FILE)
    scaler = joblib.load(SCALER_FILE)

    uploaded_file = st.file_uploader("Upload CSV file (V1...V28, Amount, Time)", type="csv")

    if uploaded_file:
        data = pd.read_csv(uploaded_file)
        st.write("Uploaded Data Preview:")
        st.dataframe(data.head())

        if st.button("Detect Fraud"):
            try:
                data = data.fillna(0)
                data[["Amount", "Time"]] = scaler.transform(data[["Amount", "Time"]])

                proba = xgb_model.predict_proba(data)[:, 1]
                predictions = (proba >= best_threshold).astype(int)

                data["Fraud Probability"] = proba
                data["Fraud Prediction"] = predictions

                st.write("Prediction Results:")
                st.dataframe(data)

                st.success(f"Fraud cases detected: {predictions.sum()}")

                csv = data.to_csv(index=False).encode('utf-8')
                st.download_button(
                    label="Download Predictions as CSV",
                    data=csv,
                    file_name='predictions.csv',
                    mime='text/csv'
                )

            except Exception as e:
                st.error(f"Error: {e}")
